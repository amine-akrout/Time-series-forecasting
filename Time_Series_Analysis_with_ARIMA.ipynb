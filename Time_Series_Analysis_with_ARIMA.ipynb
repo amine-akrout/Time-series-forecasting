{
 "cells": [
  {
   "cell_type": "markdown",
   "metadata": {
    "colab_type": "text",
    "id": "O5YCp4LHawmT"
   },
   "source": [
    "### Import Libraries"
   ]
  },
  {
   "cell_type": "code",
   "execution_count": null,
   "metadata": {
    "colab": {},
    "colab_type": "code",
    "id": "ZQYWmtK3a2LS"
   },
   "outputs": [],
   "source": [
    "%matplotlib inline\n",
    "import numpy as np\n",
    "import pandas as pd\n",
    "import matplotlib.pyplot as plt\n",
    "import matplotlib as mpl\n",
    "import seaborn as sns\n",
    "import datetime\n",
    "from datetime import date\n",
    "import random\n",
    "from sklearn.metrics import mean_squared_error, mean_absolute_error\n",
    "\n",
    "\n",
    "import statsmodels.api as sm\n",
    "from statsmodels.tsa.stattools import adfuller\n",
    "from statsmodels.tsa.seasonal import seasonal_decompose\n",
    "from statsmodels.tsa.stattools import acf, pacf\n",
    "from statsmodels.tsa.arima_model import ARIMA\n",
    "from statsmodels.tsa.stattools import acf, pacf\n",
    "from statsmodels.graphics.tsaplots import plot_acf\n",
    "from statsmodels.graphics.tsaplots import plot_pacf\n",
    "\n",
    "import gc\n",
    "\n",
    "import warnings\n",
    "warnings.filterwarnings('ignore')"
   ]
  },
  {
   "cell_type": "markdown",
   "metadata": {
    "colab_type": "text",
    "id": "uTXd2DYabcps"
   },
   "source": [
    "### Import Data"
   ]
  },
  {
   "cell_type": "code",
   "execution_count": null,
   "metadata": {
    "colab": {},
    "colab_type": "code",
    "id": "FYUl0B1EbF0o"
   },
   "outputs": [],
   "source": [
    "data = pd.read_csv('./data/Metro_Interstate_Traffic_Volume.csv', infer_datetime_format=True)"
   ]
  },
  {
   "cell_type": "code",
   "execution_count": null,
   "metadata": {
    "colab": {},
    "colab_type": "code",
    "id": "-sJ42eDSgPMe"
   },
   "outputs": [],
   "source": [
    "data['date_time'] =  pd.to_datetime(data['date_time'], format='%Y-%m-%d %H:%M:%S')"
   ]
  },
  {
   "cell_type": "code",
   "execution_count": null,
   "metadata": {},
   "outputs": [],
   "source": [
    "data.describe(include = 'all')"
   ]
  },
  {
   "cell_type": "code",
   "execution_count": null,
   "metadata": {
    "colab": {},
    "colab_type": "code",
    "id": "LfuvrcU3fcoW"
   },
   "outputs": [],
   "source": [
    "data = data.set_index(pd.DatetimeIndex(data['date_time'])).rename(columns={\"date_time\": \"ds\"}).drop_duplicates(subset=['ds'])"
   ]
  },
  {
   "cell_type": "code",
   "execution_count": null,
   "metadata": {},
   "outputs": [],
   "source": [
    "ts = data['2018-08-30':'2018-09-29']"
   ]
  },
  {
   "cell_type": "code",
   "execution_count": null,
   "metadata": {
    "colab": {
     "base_uri": "https://localhost:8080/",
     "height": 136
    },
    "colab_type": "code",
    "id": "KxZRikxv1lKU",
    "outputId": "3737821e-f0b4-4d91-bf8b-9a4e6a778135"
   },
   "outputs": [],
   "source": [
    "ts.head()"
   ]
  },
  {
   "cell_type": "code",
   "execution_count": null,
   "metadata": {},
   "outputs": [],
   "source": [
    "ts.info()"
   ]
  },
  {
   "cell_type": "markdown",
   "metadata": {
    "colab_type": "text",
    "id": "yZ_I-s9hYimK"
   },
   "source": [
    "**Train/test Split**"
   ]
  },
  {
   "cell_type": "code",
   "execution_count": null,
   "metadata": {
    "colab": {},
    "colab_type": "code",
    "id": "CQRmRxNrYizJ"
   },
   "outputs": [],
   "source": [
    "#split_date = '2018-08-30'\n",
    "split_date = '2018-09-26'\n",
    "ts_train = ts.loc[ts.index <= split_date].copy()\n",
    "ts_test = ts.loc[ts.index > split_date].copy()"
   ]
  },
  {
   "cell_type": "code",
   "execution_count": null,
   "metadata": {},
   "outputs": [],
   "source": [
    "len(ts_train), len(ts_test)"
   ]
  },
  {
   "cell_type": "markdown",
   "metadata": {
    "colab_type": "text",
    "id": "MYX-xK1B13d4"
   },
   "source": [
    "**Stationnarity**"
   ]
  },
  {
   "cell_type": "code",
   "execution_count": null,
   "metadata": {
    "colab": {},
    "colab_type": "code",
    "id": "qA4m-42P1mF9"
   },
   "outputs": [],
   "source": [
    "from statsmodels.tsa.stattools import adfuller\n",
    "window = 24*7\n",
    "cutoff = 0.05\n",
    "def test_stationarity(timeseries, window = window, cutoff = cutoff):\n",
    "\n",
    "    #Determing rolling statistics\n",
    "    rolmean = timeseries.rolling(window).mean()\n",
    "    rolstd = timeseries.rolling(window).std()\n",
    "\n",
    "    #Plot rolling statistics:\n",
    "    fig = plt.figure(figsize=(30, 5))\n",
    "    orig = plt.plot(timeseries, color='blue',label='Original')\n",
    "    mean = plt.plot(rolmean, color='red', label='Rolling Mean')\n",
    "    std = plt.plot(rolstd, color='black', label = 'Rolling Std')\n",
    "    plt.legend(loc='best')\n",
    "    plt.title('Rolling Mean & Standard Deviation')\n",
    "    plt.show()\n",
    "    \n",
    "    #Perform Dickey-Fuller test:\n",
    "    print('Results of Dickey-Fuller Test:')\n",
    "    dftest = adfuller(timeseries, autolag='AIC', maxlag = 24 )\n",
    "    dfoutput = pd.Series(dftest[0:4], index=['Test Statistic','p-value','#Lags Used','Number of Observations Used'])\n",
    "    for key,value in dftest[4].items():\n",
    "        dfoutput['Critical Value (%s)'%key] = value\n",
    "    pvalue = dftest[1]\n",
    "    if pvalue < cutoff:\n",
    "        print('p-value = %.4f. The series is likely stationary.' % pvalue)\n",
    "    else:\n",
    "        print('p-value = %.4f. The series is likely non-stationary.' % pvalue)\n",
    "    \n",
    "    print(dfoutput)"
   ]
  },
  {
   "cell_type": "code",
   "execution_count": null,
   "metadata": {
    "colab": {
     "base_uri": "https://localhost:8080/",
     "height": 563
    },
    "colab_type": "code",
    "id": "Nvsh2Dlk15FH",
    "outputId": "4d0fcae2-05e2-4a65-9713-d7e3c779e22b"
   },
   "outputs": [],
   "source": [
    "test_stationarity(ts_train.traffic_volume)"
   ]
  },
  {
   "cell_type": "markdown",
   "metadata": {
    "colab_type": "text",
    "id": "F_w66OhR4iFy"
   },
   "source": [
    "**Building a model**"
   ]
  },
  {
   "cell_type": "code",
   "execution_count": null,
   "metadata": {
    "colab": {},
    "colab_type": "code",
    "id": "IFGyO_hr5qqv"
   },
   "outputs": [],
   "source": [
    "# ACF and PACF plots\n",
    "lag = 24\n",
    "lag_pacf = pacf(ts_train.traffic_volume, nlags=lag, method='ols')\n",
    "lag_acf = acf(ts_train.traffic_volume, nlags=lag)"
   ]
  },
  {
   "cell_type": "code",
   "execution_count": null,
   "metadata": {
    "colab": {
     "base_uri": "https://localhost:8080/",
     "height": 435
    },
    "colab_type": "code",
    "id": "Tl54RY_S6ID_",
    "outputId": "425ff4b4-d4bd-4dfa-e831-3dfe6838eefc"
   },
   "outputs": [],
   "source": [
    "#Plot ACF: \n",
    "plt.figure(figsize=(15,3))\n",
    "plt.plot(lag_acf)\n",
    "plt.axhline(y=0,linestyle='--',color='gray')\n",
    "plt.axhline(y=-1.96/np.sqrt(len(ts)),linestyle='--',color='gray')\n",
    "plt.axhline(y=1.96/np.sqrt(len(ts)),linestyle='--',color='gray')\n",
    "plt.title('ACF')\n",
    "plt.tight_layout()\n",
    "plt.show()\n",
    "\n",
    "plt.figure(figsize=(15,3))\n",
    "plot_acf(ts_train.traffic_volume, ax=plt.gca(),lags=lag)\n",
    "plt.show()"
   ]
  },
  {
   "cell_type": "code",
   "execution_count": null,
   "metadata": {
    "colab": {
     "base_uri": "https://localhost:8080/",
     "height": 433
    },
    "colab_type": "code",
    "id": "BW_yswUV_2ZZ",
    "outputId": "f86350f4-9480-4376-eac9-e011fca28ee6"
   },
   "outputs": [],
   "source": [
    "#Plot PACF:\n",
    "plt.figure(figsize=(15,3))\n",
    "plt.plot(lag_pacf)\n",
    "plt.axhline(y=0,linestyle='--',color='gray')\n",
    "plt.axhline(y=-1.96/np.sqrt(len(ts)),linestyle='--',color='gray')\n",
    "plt.axhline(y=1.96/np.sqrt(len(ts)),linestyle='--',color='gray')\n",
    "plt.title('PACF')\n",
    "plt.tight_layout()\n",
    "plt.show()\n",
    "\n",
    "plt.figure(figsize=(15,3))\n",
    "plot_pacf(ts_train.traffic_volume, ax=plt.gca(), lags=lag)\n",
    "plt.tight_layout()\n",
    "plt.show()"
   ]
  },
  {
   "cell_type": "code",
   "execution_count": null,
   "metadata": {
    "colab": {},
    "colab_type": "code",
    "id": "962B-10TAKdB"
   },
   "outputs": [],
   "source": [
    "p=2\n",
    "d=0\n",
    "q=1"
   ]
  },
  {
   "cell_type": "markdown",
   "metadata": {},
   "source": [
    "### ARIMA model"
   ]
  },
  {
   "cell_type": "code",
   "execution_count": null,
   "metadata": {
    "colab": {
     "base_uri": "https://localhost:8080/",
     "height": 427
    },
    "colab_type": "code",
    "id": "MbLg1GYZArOY",
    "outputId": "11587700-3ceb-4f8f-bf34-8c8feff9ca78"
   },
   "outputs": [],
   "source": [
    "%%time\n",
    "# ARIMA\n",
    "model = ARIMA(ts_train.traffic_volume, order=(p, d, q))  \n",
    "#model = ARIMA(ts_train, order=(1, 0, 1)) \n",
    "results_ARIMA = model.fit(disp=1)\n",
    "plt.figure(figsize=(30,6))\n",
    "plt.plot(ts_train.traffic_volume)\n",
    "plt.plot(results_ARIMA.fittedvalues, color='red')\n",
    "plt.title('RSS: %.4f'% sum((results_ARIMA.fittedvalues).dropna()**2))\n",
    "plt.show()"
   ]
  },
  {
   "cell_type": "code",
   "execution_count": null,
   "metadata": {
    "colab": {
     "base_uri": "https://localhost:8080/",
     "height": 586
    },
    "colab_type": "code",
    "id": "geJVL9fABCKc",
    "outputId": "549b3c8f-7ed8-47fd-83a3-ecd87891bd96"
   },
   "outputs": [],
   "source": [
    "results_ARIMA.summary()"
   ]
  },
  {
   "cell_type": "code",
   "execution_count": null,
   "metadata": {
    "colab": {
     "base_uri": "https://localhost:8080/",
     "height": 394
    },
    "colab_type": "code",
    "id": "pdAau4jonRwW",
    "outputId": "cfbfe580-f593-4167-9002-1a780804a53d"
   },
   "outputs": [],
   "source": [
    "x = pd.DataFrame(results_ARIMA.fittedvalues)\n",
    "x.columns = ['traffic_volume']\n",
    "x = x.traffic_volume - ts_train.traffic_volume\n",
    "plt.figure(figsize=(30,6))\n",
    "plt.plot(x, label='residuals')\n",
    "plt.legend(loc='best')\n",
    "plt.show()"
   ]
  },
  {
   "cell_type": "markdown",
   "metadata": {
    "colab_type": "text",
    "id": "16oXEAZyZnv4"
   },
   "source": [
    "## Test ARIMA on testset"
   ]
  },
  {
   "cell_type": "code",
   "execution_count": null,
   "metadata": {
    "colab": {},
    "colab_type": "code",
    "id": "iaDwjB0ZcrDH"
   },
   "outputs": [],
   "source": [
    "def StartARIMAForecasting(Actual, p, d, q):\n",
    "    model = ARIMA(Actual, order=(p, d, q))\n",
    "    model_fit = model.fit(disp=0)\n",
    "    prediction = model_fit.forecast()[0]\n",
    "    return prediction"
   ]
  },
  {
   "cell_type": "code",
   "execution_count": null,
   "metadata": {},
   "outputs": [],
   "source": [
    "len(ts_test.traffic_volume)"
   ]
  },
  {
   "cell_type": "code",
   "execution_count": null,
   "metadata": {
    "colab": {},
    "colab_type": "code",
    "id": "xm-Ej6bahJtY"
   },
   "outputs": [],
   "source": [
    "%%time\n",
    "#new arrays to store actual and predictions\n",
    "Actual = [x for x in ts_train.traffic_volume]\n",
    "Predictions = list()\n",
    "\n",
    "#in a for loop, predict values using ARIMA model\n",
    "for timepoint in range(len(ts_test.traffic_volume)):\n",
    "    ActualValue =  ts_test.traffic_volume[timepoint]\n",
    "    #forcast value\n",
    "    Prediction = StartARIMAForecasting(Actual, p,d,q)    \n",
    "    print('Actual=%f, Predicted=%f' % (ActualValue, Prediction))\n",
    "    #add it in the list\n",
    "    Predictions.append(Prediction)\n",
    "    Actual.append(ActualValue)  \n",
    " \n",
    "predictions=pd.DataFrame(Predictions).set_index(ts_test.index)"
   ]
  },
  {
   "cell_type": "code",
   "execution_count": null,
   "metadata": {},
   "outputs": [],
   "source": [
    "y_pred, se, conf = results_ARIMA.forecast(len(ts_test))\n"
   ]
  },
  {
   "cell_type": "code",
   "execution_count": null,
   "metadata": {},
   "outputs": [],
   "source": [
    "y_pred"
   ]
  },
  {
   "cell_type": "code",
   "execution_count": null,
   "metadata": {},
   "outputs": [],
   "source": [
    "print('Test Mean Absolute Error:', mean_absolute_error(ts_test.traffic_volume, y_pred))\n",
    "print('Test Root Mean Squared Error:',np.sqrt(mean_squared_error(ts_test.traffic_volume, y_pred)))\n",
    "print('Test Mean Absolute percentage Error:',mean_absolute_percentage_error(ts_test.traffic_volume, y_pred))"
   ]
  },
  {
   "cell_type": "code",
   "execution_count": null,
   "metadata": {
    "colab": {},
    "colab_type": "code",
    "id": "vAMdYHxmpIUz"
   },
   "outputs": [],
   "source": [
    "def mean_absolute_percentage_error(y_true, y_pred): \n",
    "    return np.mean(np.abs((y_true - y_pred) / y_true)) * 100"
   ]
  },
  {
   "cell_type": "code",
   "execution_count": null,
   "metadata": {
    "colab": {
     "base_uri": "https://localhost:8080/",
     "height": 68
    },
    "colab_type": "code",
    "id": "ONcaSzAthOzg",
    "outputId": "db8f9502-66c7-49f7-9e0d-7705fb0c6a96"
   },
   "outputs": [],
   "source": [
    "#Calculate Model error\n",
    "'''\n",
    "print('Train Mean Absolute Error:', mean_absolute_error(ts_train, ts_train_fcst[:,0]))\n",
    "print('Train Root Mean Squared Error:',np.sqrt(mean_squared_error(ts_train, ts_train_fcst[:,0])))\n",
    "print('Train Mean Absolute percentage Error:',mean_absolute_percentage_error(ts_train, ts_train_fcst[:,0]))\n",
    "'''\n",
    "print('Test Mean Absolute Error:', mean_absolute_error(ts_test.traffic_volume, predictions))\n",
    "print('Test Root Mean Squared Error:',np.sqrt(mean_squared_error(ts_test.traffic_volume, predictions)))\n",
    "print('Test Mean Absolute percentage Error:',mean_absolute_percentage_error(ts_test.traffic_volume, predictions[0]))"
   ]
  },
  {
   "cell_type": "code",
   "execution_count": null,
   "metadata": {
    "colab": {
     "base_uri": "https://localhost:8080/",
     "height": 393
    },
    "colab_type": "code",
    "id": "Pbk20jQCpNjP",
    "outputId": "df722023-b5a6-4d63-ea3f-dec8a463b610"
   },
   "outputs": [],
   "source": [
    "plt.figure(figsize=(15,6))\n",
    "plt.plot(ts_test.index, pd.DataFrame(ts_test.traffic_volume), marker='.', label=\"actual\")\n",
    "plt.plot(ts_test.index, pd.DataFrame(Predictions)[0], 'r', label=\"prediction\")\n",
    "plt.ylabel('Traffic Volume', size=15)\n",
    "plt.xlabel('Date', size=15)\n",
    "plt.legend(fontsize=13)\n",
    "plt.show()"
   ]
  },
  {
   "cell_type": "code",
   "execution_count": null,
   "metadata": {
    "colab": {
     "base_uri": "https://localhost:8080/",
     "height": 375
    },
    "colab_type": "code",
    "id": "qUpTDS0njDj5",
    "outputId": "c033dd58-53c9-4f7b-81e2-b5befb9af3ef"
   },
   "outputs": [],
   "source": [
    "# zoom on lastest 2 days\n",
    "f, ax = plt.subplots(1)\n",
    "f.set_figheight(5)\n",
    "f.set_figwidth(15)\n",
    "plt.plot(ts_test.index, pd.DataFrame(ts_test.traffic_volume), marker='.', label=\"actual\")\n",
    "plt.plot(ts_test.index, pd.DataFrame(Predictions)[0], 'r', label=\"prediction\")\n",
    "ax.set_xbound(lower= datetime.date(2018,9,28), upper=datetime.date(2018,9,29))\n",
    "plt.legend(fontsize=13)\n",
    "plt.xlabel('Date', size=15)\n",
    "ax.set_ylim(0, 7000)\n",
    "plot = plt.suptitle('Lastest week Forecast vs Actuals')"
   ]
  },
  {
   "cell_type": "markdown",
   "metadata": {},
   "source": [
    "### Auto Arima"
   ]
  },
  {
   "cell_type": "code",
   "execution_count": null,
   "metadata": {},
   "outputs": [],
   "source": [
    "%%time\n",
    "from statsmodels.tsa.arima_model import ARIMA\n",
    "import pmdarima as pm\n",
    "\n",
    "model = pm.auto_arima(ts_train.traffic_volume, start_p=0, start_q=0,\n",
    "                      test='adf',       # use adftest to find optimal 'd'\n",
    "                      max_p=3, max_q=3,  # maximum p and q\n",
    "                      max_P=3, max_Q=3,  # maximum p and q\n",
    "                      m=24,              # frequency of series\n",
    "                      d=None,           # let model determine 'd'\n",
    "                      seasonal=True,   # Seasonality\n",
    "                      start_P=0, \n",
    "                      D=None, \n",
    "                      trace=True,\n",
    "                      error_action='ignore',  \n",
    "                      suppress_warnings=True, \n",
    "                      stepwise=True,\n",
    "                     n_fits = 50)\n",
    "\n",
    "print(model.summary())"
   ]
  },
  {
   "cell_type": "code",
   "execution_count": null,
   "metadata": {},
   "outputs": [],
   "source": [
    "model.plot_diagnostics(figsize=(16,8))\n",
    "plt.show()"
   ]
  },
  {
   "cell_type": "code",
   "execution_count": null,
   "metadata": {},
   "outputs": [],
   "source": [
    "y_pred = model.predict(len(ts_test))"
   ]
  },
  {
   "cell_type": "code",
   "execution_count": null,
   "metadata": {},
   "outputs": [],
   "source": [
    "y_pred"
   ]
  },
  {
   "cell_type": "code",
   "execution_count": null,
   "metadata": {},
   "outputs": [],
   "source": [
    "print('Test Mean Absolute Error:', mean_absolute_error(ts_test.traffic_volume, y_pred))\n",
    "print('Test Root Mean Squared Error:',np.sqrt(mean_squared_error(ts_test.traffic_volume, y_pred)))\n",
    "print('Test Mean Absolute percentage Error:',mean_absolute_percentage_error(ts_test.traffic_volume, y_pred))"
   ]
  },
  {
   "cell_type": "code",
   "execution_count": null,
   "metadata": {},
   "outputs": [],
   "source": [
    "%%time\n",
    "import statsmodels.api as sm\n",
    "model=sm.tsa.statespace.SARIMAX(ts_train.traffic_volume,order=(p,d,q),seasonal_order=(p,d,q, 24))\n",
    "results=model.fit()"
   ]
  },
  {
   "cell_type": "code",
   "execution_count": null,
   "metadata": {},
   "outputs": [],
   "source": [
    "y_pred = pd.DataFrame(results.predict(len(ts_test)))"
   ]
  },
  {
   "cell_type": "code",
   "execution_count": null,
   "metadata": {},
   "outputs": [],
   "source": [
    "y_pred"
   ]
  },
  {
   "cell_type": "code",
   "execution_count": null,
   "metadata": {},
   "outputs": [],
   "source": [
    "len(ts_train), len(ts_test)"
   ]
  },
  {
   "cell_type": "code",
   "execution_count": null,
   "metadata": {},
   "outputs": [],
   "source": []
  }
 ],
 "metadata": {
  "accelerator": "GPU",
  "colab": {
   "collapsed_sections": [],
   "name": "Time_Series_Analysis with ARIMA.ipynb",
   "provenance": []
  },
  "kernelspec": {
   "display_name": "Python 3 (ipykernel)",
   "language": "python",
   "name": "python3"
  },
  "language_info": {
   "codemirror_mode": {
    "name": "ipython",
    "version": 3
   },
   "file_extension": ".py",
   "mimetype": "text/x-python",
   "name": "python",
   "nbconvert_exporter": "python",
   "pygments_lexer": "ipython3",
   "version": "3.7.12"
  },
  "toc": {
   "base_numbering": 1,
   "nav_menu": {},
   "number_sections": false,
   "sideBar": true,
   "skip_h1_title": false,
   "title_cell": "Table of Contents",
   "title_sidebar": "Contents",
   "toc_cell": false,
   "toc_position": {
    "height": "calc(100% - 180px)",
    "left": "10px",
    "top": "150px",
    "width": "241.094px"
   },
   "toc_section_display": true,
   "toc_window_display": true
  }
 },
 "nbformat": 4,
 "nbformat_minor": 1
}
